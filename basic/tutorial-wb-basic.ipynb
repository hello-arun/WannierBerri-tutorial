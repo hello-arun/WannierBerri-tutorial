{
 "cells": [
  {
   "cell_type": "markdown",
   "id": "0a98c76e",
   "metadata": {},
   "source": [
    "# Tutorial on Wannier Berri - basic\n",
    "\n",
    "In this tutorial we will see how to compute bands, Berry curvature and anomalous Hall conductivity  using WannierBerri code\n",
    "\n",
    "\\begin{equation}\n",
    "\\sigma^{\\rm AHC}_{xy} = -\\frac{e^2}{\\hbar} \\sum_n^{\\rm occ} \\int\\frac{d\\mathbf{k}}{(2\\pi)^3} \\Omega^n_\\gamma\n",
    "\\label{eq:ahc}\\tag{1}\n",
    "\\end{equation}\n",
    "\n",
    "Equation (\\ref{eq:ahc}) defines AHC as a Fermi-sea integral of Berry curvature"
   ]
  },
  {
   "cell_type": "code",
   "execution_count": null,
   "id": "3d966769-a457-4937-8c2f-9b66ceddf92e",
   "metadata": {
    "jupyter": {
     "outputs_hidden": true
    },
    "tags": []
   },
   "outputs": [],
   "source": [
    "# Preliminary (Do only once)\n",
    "\n",
    "# Set environment variables - not mandatory but recommended\n",
    "import os\n",
    "os.environ['OPENBLAS_NUM_THREADS'] = '1' \n",
    "os.environ['MKL_NUM_THREADS'] = '1'\n",
    "\n",
    "\n",
    "import wannierberri as wberri\n",
    "import numpy as np\n",
    "import scipy\n",
    "import matplotlib.pyplot as plt\n",
    "\n",
    "#  This block is needed if you run this cell for a second time\n",
    "#  because one cannot initiate two parallel environments at a time\n",
    "try:\n",
    "    parallel.shutdown()   \n",
    "except NameError:\n",
    "    pass\n",
    "\n",
    "parallel = wberri.Parallel(num_cpus=2)\n"
   ]
  },
  {
   "cell_type": "code",
   "execution_count": null,
   "id": "1a64528c",
   "metadata": {},
   "outputs": [],
   "source": [
    "# Importing data from wannier90\n",
    "system=wberri.System_w90(\n",
    "                        seedname='w90_files/Fe',\n",
    "                        berry=True,   # needed to calculate \"external terms\" of Berry connection or curvature , reads \".mmn\" file\n",
    "                        spin = True , # needed for spin properties, reads \".spn\" file\n",
    "                        use_wcc_phase=True  # \n",
    "                        )\n",
    "\n",
    "generators=[\"Inversion\",\"C4z\",\"TimeReversal*C2x\"]\n",
    "system.set_symmetry(generators)\n"
   ]
  },
  {
   "cell_type": "code",
   "execution_count": null,
   "id": "7b188b3a-895e-44a7-be28-945c9289d553",
   "metadata": {
    "jupyter": {
     "outputs_hidden": true
    },
    "tags": []
   },
   "outputs": [],
   "source": [
    "# Evaluate bands, Berry curvature and spin along a path GHPNG\n",
    "\n",
    "\n",
    "path=wberri.Path(system,\n",
    "                 k_nodes=[\n",
    "        [0.0000, 0.0000, 0.0000 ],   #  G \n",
    "        [0.500 ,-0.5000, -0.5000],   #  H \n",
    "        [0.7500, 0.2500, -0.2500],   #  P \n",
    "        [0.5000, 0.0000, -0.5000],   #  N \n",
    "        [0.0000, 0.0000, 0.000  ] ] , #  G \n",
    "                 labels=[\"G\",\"H\",\"P\",\"N\",\"G\"],\n",
    "                 length=200 )   # length [ Ang] ~= 2*pi/dk\n",
    "\n",
    "\n",
    "path_result=wberri.tabulate(system,\n",
    "                            grid=path,\n",
    "                            quantities = [\"spin\",\"berry\"],\n",
    "                            parallel = parallel)\n"
   ]
  },
  {
   "cell_type": "code",
   "execution_count": null,
   "id": "0cf05033",
   "metadata": {},
   "outputs": [],
   "source": [
    "# plot the bands and compare with QuantumEspresso\n",
    "EF = 12.6\n",
    "\n",
    "# Import the pre-computed bands from quantum espresso\n",
    "A = np.loadtxt(open(\"bands/Fe_bands_pw.dat\",\"r\"))\n",
    "bohr_ang = scipy.constants.physical_constants['Bohr radius'][0] / 1e-10\n",
    "alatt = 5.4235* bohr_ang\n",
    "A[:,0]*= 2*np.pi/alatt\n",
    "A[:,1]-=EF\n",
    "# plot it as dots\n",
    "plt.scatter (A[:,0],A[:,1],s=5,label = \"QE\")\n",
    "\n",
    "\n",
    "path_result.plot_path_fat( path,\n",
    "              quantity=None,\n",
    "              save_file=\"Fe_bands+QE.pdf\",\n",
    "              Eshift=EF,\n",
    "              Emin=-10,  Emax=50,\n",
    "              iband=None,\n",
    "              mode=\"fatband\",\n",
    "              fatfactor=20,\n",
    "              cut_k=False, \n",
    "              close_fig=False,\n",
    "              show_fig=False,\n",
    "              label = \"WB\"\n",
    "              )\n",
    "\n",
    "\n",
    "plt.legend()\n",
    "plt.show()\n",
    "plt.close()\n"
   ]
  },
  {
   "cell_type": "code",
   "execution_count": null,
   "id": "f607044e",
   "metadata": {},
   "outputs": [],
   "source": [
    "# plot the bands and compare with wannier90\n",
    "A = np.loadtxt(open(\"bands/Fe_bands_w90.dat\",\"r\"))\n",
    "plt.scatter (A[:,0],A[:,1],s=5,label = \"W90\")\n",
    "\n",
    "path_result.plot_path_fat( path,\n",
    "              quantity=None,\n",
    "              save_file=\"Fe_bands+w90.pdf\",\n",
    "              Eshift=0,\n",
    "              Emin=4,  Emax=20,\n",
    "              iband=None,\n",
    "              mode=\"fatband\",\n",
    "              fatfactor=20,\n",
    "              cut_k=False, \n",
    "              close_fig=False,\n",
    "              show_fig=False,\n",
    "              label = \"WB\"\n",
    "              )\n",
    "\n",
    "plt.legend()\n",
    "\n",
    "plt.show()\n",
    "plt.close()"
   ]
  },
  {
   "cell_type": "code",
   "execution_count": null,
   "id": "ce203f0d",
   "metadata": {},
   "outputs": [],
   "source": [
    "# Plot bands and their spin (z component)\n",
    "\n",
    "path_result.plot_path_fat( path,\n",
    "              quantity='spin',\n",
    "              component='z',\n",
    "              save_file=\"Fe_bands+spin.pdf\",\n",
    "              Eshift=0,\n",
    "              Emin=4,  Emax=20,\n",
    "              iband=None,\n",
    "              mode=\"fatband\",\n",
    "              fatfactor=20,\n",
    "              cut_k=False, \n",
    "              close_fig=True,\n",
    "              show_fig=True\n",
    "              )"
   ]
  },
  {
   "cell_type": "code",
   "execution_count": null,
   "id": "62785190",
   "metadata": {},
   "outputs": [],
   "source": [
    "# plot the Berry curvature\n",
    "path_result.plot_path_fat( path,\n",
    "              quantity='berry',\n",
    "              component='z',\n",
    "              save_file=\"Fe_bands+berry.pdf\",\n",
    "              Eshift=0,\n",
    "              Emin=4,  Emax=20,\n",
    "              iband=None,\n",
    "              mode=\"fatband\",\n",
    "              fatfactor=4,\n",
    "              cut_k=False, \n",
    "              close_fig=True,\n",
    "              show_fig=True\n",
    "              )\n",
    "\n",
    "# The size of the dots are the magnitude of BC on a logarithmic scale"
   ]
  },
  {
   "cell_type": "code",
   "execution_count": null,
   "id": "aa6e88ff",
   "metadata": {},
   "outputs": [],
   "source": [
    "# Set a grid \n",
    "grid = wberri.Grid(system, length=100 )   # length [ Ang] ~= 2*pi/dk\n",
    "#grid = wberri.Grid(system, NK=[24,24,24], NKFFT=4)\n",
    "#grid = wberri.Grid(system, NKdiv=6, NKFFT=4)"
   ]
  },
  {
   "cell_type": "code",
   "execution_count": null,
   "id": "d7515feb",
   "metadata": {},
   "outputs": [],
   "source": [
    "tab_result=wberri.tabulate(system,\n",
    "                             grid=grid,\n",
    "                             quantities = [\"spin\",\"berry\"],\n",
    "                             ibands=np.arange(0,18),\n",
    "                             parallel = parallel)"
   ]
  },
  {
   "cell_type": "code",
   "execution_count": null,
   "id": "7b8aa91e",
   "metadata": {},
   "outputs": [],
   "source": [
    "tab_result.fermiSurfer(quantity= \"berry\",component=\"z\",efermi=EF,frmsf_name = \"Fe_berry_z.frmsf\")\n",
    "!ls\n"
   ]
  },
  {
   "cell_type": "code",
   "execution_count": null,
   "id": "786bb7cd",
   "metadata": {},
   "outputs": [],
   "source": [
    "!fermisurfer Fe_berry_z.frmsf"
   ]
  },
  {
   "cell_type": "code",
   "execution_count": null,
   "id": "d41e6a7c",
   "metadata": {},
   "outputs": [],
   "source": [
    "Energy = tab_result.get_data(iband=6, quantity='Energy')\n",
    "berry  = tab_result.get_data(iband=4, quantity='berry',component='z')\n",
    "print(berry.shape,Energy.shape)"
   ]
  },
  {
   "cell_type": "code",
   "execution_count": null,
   "id": "efe0797d",
   "metadata": {},
   "outputs": [],
   "source": [
    "# example : find the total Berry curvature of occupied states\n",
    "# on the plane (k1,k2), k3=const (in reduced coordinates\n",
    "Berry_occ = 0\n",
    "k3 = 9\n",
    "for ib in range(18):\n",
    "    Energy = tab_result.get_data(iband=ib, quantity='Energy') [:,:,k3]\n",
    "    berry  = tab_result.get_data(iband=ib, quantity='berry',component='z') [:,:,k3]\n",
    "    berry [Energy>EF] = 0\n",
    "    Berry_occ += berry\n",
    "    plt.contour(Energy,[EF],linewidths=0.5,colors='black')\n",
    "shw = plt.imshow(Berry_occ,vmin=-10,vmax=10,cmap=\"jet\")\n",
    "bar = plt.colorbar(shw)"
   ]
  },
  {
   "cell_type": "code",
   "execution_count": null,
   "id": "d987052a",
   "metadata": {},
   "outputs": [],
   "source": [
    "# Integrate the Berry curvature to get AHC\n",
    "Efermi = np.linspace(12,13,1001)\n",
    "wberri.integrate(system,\n",
    "            grid=grid,\n",
    "            Efermi=Efermi, \n",
    "            smearEf=300,  # Kelvin\n",
    "            quantities=[\"ahc\"],\n",
    "            parallel=parallel,\n",
    "            use_irred_kpt=True, symmetrize=True,\n",
    "            adpt_num_iter=10,\n",
    "            fout_name='Fe',\n",
    "            restart=False,\n",
    "            )"
   ]
  },
  {
   "cell_type": "code",
   "execution_count": null,
   "id": "bf1adc14",
   "metadata": {},
   "outputs": [],
   "source": [
    "!ls"
   ]
  },
  {
   "cell_type": "code",
   "execution_count": null,
   "id": "56b5765e",
   "metadata": {},
   "outputs": [],
   "source": [
    "#plot results from different iterations\n",
    "for i in range(10):\n",
    "    a = np.loadtxt(f\"Fe-ahc_iter-{i:04d}.dat\")\n",
    "    plt.plot(a[:,0],a[:,3],label = f\"iteration-{i}\")\n",
    "#plt.ylim(-1000,1000)\n",
    "plt.legend()\n",
    "plt.show()"
   ]
  },
  {
   "cell_type": "code",
   "execution_count": null,
   "id": "d5828ef9",
   "metadata": {},
   "outputs": [],
   "source": [
    "# Do some more iterations, using 'K_list.pickle' file\n",
    "wberri.integrate(system,\n",
    "            grid=grid,\n",
    "            Efermi=Efermi, \n",
    "            smearEf=300,  # Kelvin\n",
    "            quantities=[\"ahc\"],\n",
    "            parallel=parallel,\n",
    "            use_irred_kpt=True, symmetrize=True,\n",
    "            adpt_num_iter=10,\n",
    "            fout_name='Fe',\n",
    "            restart=True,\n",
    "            )"
   ]
  },
  {
   "cell_type": "code",
   "execution_count": null,
   "id": "c7440ef9",
   "metadata": {},
   "outputs": [],
   "source": [
    "#plot results from new iterations\n",
    "for i in range(10,20):\n",
    "    a = np.loadtxt(f\"Fe-ahc_iter-{i:04d}.dat\")\n",
    "    plt.plot(a[:,0],a[:,3],label = f\"iteration-{i}\")\n",
    "#plt.ylim(-1000,1000)\n",
    "plt.legend()\n",
    "plt.show()"
   ]
  },
  {
   "cell_type": "code",
   "execution_count": null,
   "id": "5b31c42e",
   "metadata": {},
   "outputs": [],
   "source": []
  }
 ],
 "metadata": {
  "kernelspec": {
   "display_name": "Python 3 (ipykernel)",
   "language": "python",
   "name": "python3"
  },
  "language_info": {
   "codemirror_mode": {
    "name": "ipython",
    "version": 3
   },
   "file_extension": ".py",
   "mimetype": "text/x-python",
   "name": "python",
   "nbconvert_exporter": "python",
   "pygments_lexer": "ipython3",
   "version": "3.8.10"
  }
 },
 "nbformat": 4,
 "nbformat_minor": 5
}
