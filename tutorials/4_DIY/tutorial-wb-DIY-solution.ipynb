{
 "cells": [
  {
   "cell_type": "markdown",
   "id": "0a98c76e",
   "metadata": {},
   "source": [
    "# DIY tutorial\n",
    "\n",
    "As we learned from the basic tutorial, in WannierBerri  calculations are done by [`Calculator`](https://wannier-berri.org/docs/calculators.html#wannierberri.calculators.Calculator)s. In this tutorial we will se how to create our own calculators. \n",
    "\n",
    "As an example let's consider anomalous Nernst conductivity ([Xiao et al. 2006 ](https://doi.org/10.1103/PhysRevLett.97.026603) ). In the zero-temperature limit $\\alpha_{\\alpha\\beta}^{\\rm ANE}$ may be obtained from\n",
    "   AHC $\\sigma_{\\alpha\\beta}(\\epsilon)^{\\rm AHE}$ evaluated over a\n",
    "   dense grid of Fermi levels $\\epsilon$\n",
    "\n",
    "$$\n",
    "       \\alpha_{\\alpha\\beta}^{\\rm ANE}=-\\frac{1}{e}\\int d\\varepsilon \\frac{\\partial f}{\\partial\\varepsilon}\\sigma_{\\alpha\\beta}(\\varepsilon)\\frac{\\varepsilon-\\mu}{T}, \\label{eq:ane} \\tag{1}\n",
    "$$\n",
    "\n",
    "   where $f(\\varepsilon)=1/\\left(1+e^\\frac{\\varepsilon-\\mu}{k_{\\rm B}T}\\right)$ and the AHC is defined as a Fermi-sea integral of Berry curvature\n",
    "\n",
    "\\begin{equation}\n",
    "\\sigma^{\\rm AHC}_{xy} = -\\frac{e^2}{\\hbar} \\sum_n \\int\\frac{d\\mathbf{k}}{(2\\pi)^3} \\Omega^n_\\gamma f(\\epsilon_n)\n",
    "\\label{eq:ahc}\\tag{2}\n",
    "\\end{equation}\n",
    "\n",
    "   \n",
    "   In the zero-temperature limit it reduced to \n",
    "   $$\n",
    "   \\alpha_{\\alpha\\beta}^{\\rm ANE} \\propto \\frac{\\partial \\sigma_{\\alpha\\beta}(\\varepsilon)}{\\partial \\varepsilon}\n",
    "   \\propto \\int\\frac{d\\mathbf{k}}{(2\\pi)^3} \\Omega^n_\\gamma f'(\\epsilon_n) \\tag{3}\\label{eq:ane-ahc}\n",
    "   $$\n",
    "   \n",
    "   Where we omit the dimensional factor for simplicity.\n",
    "   \n",
    "   **Thus, there are two ways of calculating ANE** : \n",
    "   * via eq (\\ref{eq:ane-ahc}) \n",
    "   * via eq (\\ref{eq:ane}) \n",
    "   \n",
    "   let's try eq (\\ref{eq:ane-ahc}) first, because AHC is already implemented\n",
    "   \n",
    "   **Warning** : this is an advanced tutorial. You something may not work from first try, you need to work with documentation to resolve the problem, but do not hesitate to ask the TA if you cannot. \n",
    "  "
   ]
  },
  {
   "cell_type": "code",
   "execution_count": 1,
   "id": "3d966769-a457-4937-8c2f-9b66ceddf92e",
   "metadata": {
    "jupyter": {
     "outputs_hidden": true
    },
    "tags": []
   },
   "outputs": [
    {
     "name": "stdout",
     "output_type": "stream",
     "text": [
      "Using WannierBerri version 0.13.5\n"
     ]
    },
    {
     "name": "stderr",
     "output_type": "stream",
     "text": [
      "2023-08-12 02:20:26,671\tINFO worker.py:1519 -- Started a local Ray instance. View the dashboard at \u001b[1m\u001b[32m127.0.0.1:8268 \u001b[39m\u001b[22m\n"
     ]
    }
   ],
   "source": [
    "# Preliminary \n",
    "\n",
    "# Set environment variables - not mandatory but recommended if you use Parallel()\n",
    "#import os\n",
    "#os.environ['OPENBLAS_NUM_THREADS'] = '1' \n",
    "#os.environ['MKL_NUM_THREADS'] = '1'\n",
    "\n",
    "\n",
    "import wannierberri as wberri\n",
    "import wannierberri.models\n",
    "print (f\"Using WannierBerri version {wberri.__version__}\")\n",
    "import numpy as np\n",
    "import scipy\n",
    "import matplotlib.pyplot as plt\n",
    "from termcolor import cprint\n",
    "\n",
    "#  This block is needed if you run this cell for a second time\n",
    "#  because one cannot initiate two parallel environments at a time\n",
    "try:\n",
    "    parallel.shutdown()   \n",
    "except NameError:\n",
    "    pass\n",
    "\n",
    "# Chiose one of the options:\n",
    "\n",
    "parallel = wberri.Parallel(num_cpus=2)\n",
    "#parallel = wberri.Parallel()  # automatic detection \n",
    "#parallel = wberri.Serial()\n",
    "\n"
   ]
  },
  {
   "cell_type": "code",
   "execution_count": 2,
   "id": "1a64528c",
   "metadata": {},
   "outputs": [
    {
     "name": "stdout",
     "output_type": "stream",
     "text": [
      "R=0 found at position(s) [[3]]\n",
      "NOT using ws_dist\n",
      "Number of wannier functions: 2\n",
      "Number of R points: 7\n",
      "Recommended size of FFT grid [3 3 1]\n",
      "Reading the system from PythTB finished successfully\n"
     ]
    }
   ],
   "source": [
    "# Instead of Wannier functions, we work with a Hlldane model here https://wannier-berri.org/docs/models.html\n",
    "\n",
    "model=wberri.models.Haldane_ptb()\n",
    "system = wberri.System_PythTB(model)\n"
   ]
  },
  {
   "cell_type": "markdown",
   "id": "15a519fb",
   "metadata": {},
   "source": [
    "## anomalous Hall conductivity\n",
    "\n",
    "Now, let's evaluate the AHC on a grid of Ef-points, and then take a derivtive\n"
   ]
  },
  {
   "cell_type": "code",
   "execution_count": 3,
   "id": "d987052a",
   "metadata": {},
   "outputs": [
    {
     "name": "stdout",
     "output_type": "stream",
     "text": [
      "determining grids from NK=None (<class 'NoneType'>), NKdiv=None (<class 'NoneType'>), NKFFT=None (<class 'NoneType'>)\n",
      "length=30 was converted into NK=[35 35 30]\n",
      "Minimal symmetric FFT grid :  [3 3 1]\n",
      "The grids were set to NKdiv=[7 7 1], NKFFT=[5 5 1], NKtot=[35 35  1]\n",
      "Anomalous Hall conductivity (:math:`s^3 \\cdot A^2 / (kg \\cdot m^3) = S/m`)\n",
      "\n",
      "        | With Fermi sea integral Eq(11) in `Ref <https://www.nature.com/articles/s41524-021-00498-5>`_\n",
      "        | Output: :math:`O = -e^2/\\hbar \\int [dk] \\Omega f`\n",
      "        | Instruction: :math:`j_\\alpha = \\sigma_{\\alpha\\beta} E_\\beta = \\epsilon_{\\alpha\\beta\\delta} O_\\delta E_\\beta`\n",
      "\n",
      "Grid is regular\n",
      "The set of k points is a Grid() with NKdiv=[7 7 1], NKFFT=[5 5 1], NKtot=[35 35  1]\n",
      "generating K_list\n",
      "Done in 0.0007460117340087891 s \n",
      "excluding symmetry-equivalent K-points from initial grid\n",
      "Done in 0.002871274948120117 s \n",
      "Done in 0.0028917789459228516 s \n",
      "K_list contains 49 Irreducible points(100.0%) out of initial 7x7x1=49 grid\n",
      "Done, sum of weights:1.0000000000000007\n",
      "symgroup : <wannierberri.symmetry.Group object at 0x7f4c24f60fa0>\n",
      "processing 49 K points : using  2 processes.\n",
      "# K-points calculated  Wall time (sec)  Est. remaining (sec)\n",
      "time for processing     49 K-points on   2 processes:     0.8433 ; per K-point          0.0172 ; proc-sec per K-point          0.0344\n",
      "time1 =  0.0019228458404541016\n",
      "Totally processed 49 K-points \n"
     ]
    }
   ],
   "source": [
    "calculators = {}\n",
    "Efermi = np.linspace(-3,3,21)\n",
    "# Set a grid \n",
    "grid = wberri.Grid(system, length=30 )   # length [ Ang] ~= 2*pi/dk\n",
    "\n",
    "calculators [\"ahc\"] = wberri.calculators.static.AHC(Efermi=Efermi,tetra=False,kwargs_formula={\"external_terms\":False})\n",
    "\n",
    "result_run_ahc = wberri.run(system,\n",
    "            grid=grid,\n",
    "            calculators = calculators,\n",
    "            parallel=parallel,\n",
    "            adpt_num_iter=0,\n",
    "            fout_name='Fe',\n",
    "            restart=False,\n",
    "            file_Klist=\"Klist_ahc.pickle\",  # needed to restart a calculation in future\n",
    "            print_Kpoints=False\n",
    "            )\n",
    "\n",
    "\n"
   ]
  },
  {
   "cell_type": "code",
   "execution_count": 4,
   "id": "bf1adc14",
   "metadata": {},
   "outputs": [
    {
     "name": "stdout",
     "output_type": "stream",
     "text": [
      "Fe-ahc_iter-0000.dat  Klist_ahc.pickle\r\n",
      "Fe-ahc_iter-0000.npz  tutorial-wb-DIY.ipynb\r\n"
     ]
    }
   ],
   "source": [
    "!ls"
   ]
  },
  {
   "cell_type": "code",
   "execution_count": 5,
   "id": "f68bd818",
   "metadata": {},
   "outputs": [
    {
     "data": {
      "text/plain": [
       "[<matplotlib.lines.Line2D at 0x7f4c00604670>]"
      ]
     },
     "execution_count": 5,
     "metadata": {},
     "output_type": "execute_result"
    },
    {
     "data": {
      "image/png": "[encoded data removed]",
      "text/plain": [
       "<Figure size 640x480 with 1 Axes>"
      ]
     },
     "metadata": {},
     "output_type": "display_data"
    }
   ],
   "source": [
    "# taking derivative and plotting\n",
    "\n",
    "ef = result_run_ahc.results[\"ahc\"].Energies[0]\n",
    "ahc_z = result_run_ahc.results[\"ahc\"].data[:,2]\n",
    "\n",
    "# take the derivative\n",
    "d_ef=ef[1]-ef[0]\n",
    "d_ahc_z = (ahc_z[1:]-ahc_z[:-1])/d_ef\n",
    "efnew = (ef[1:]+ef[:-1])/2\n",
    "\n",
    "plt.plot(efnew, d_ahc_z)\n",
    "\n",
    "\n",
    "\n",
    "\n"
   ]
  },
  {
   "cell_type": "markdown",
   "id": "684530ae",
   "metadata": {},
   "source": [
    "## Look into documentation\n",
    "\n",
    "Look into documentation to see how the AHC calculator is defined : look for \"Calculator\" on\n",
    "https://docs.wannier-berri.org and press the \"source\" link.\n",
    "\n",
    "One can see that it is based on the StaticCalculator, and only redefines the `__init__` method. \n",
    "Namely, it redefines formula that stands under the integral (Berry curvature) and `fder=0` meaning that the formula is weighted by the 0th derivative of the Fermi distribution.\n",
    "\n",
    "copy the definition of AHC calculator and redefine the and below and define the __init__ class\n",
    "\n",
    "\n",
    "(hint : leave the factor the same, for simplicity)\n",
    "(hint : formula shouldbe imported from wannierberri.formula.covariant.DerOmega ) \n",
    "\n"
   ]
  },
  {
   "cell_type": "code",
   "execution_count": 6,
   "id": "8af1e1b0",
   "metadata": {},
   "outputs": [
    {
     "ename": "SyntaxError",
     "evalue": "invalid syntax (1443802983.py, line 7)",
     "output_type": "error",
     "traceback": [
      "\u001b[0;36m  File \u001b[0;32m\"/tmp/ipykernel_63552/1443802983.py\"\u001b[0;36m, line \u001b[0;32m7\u001b[0m\n\u001b[0;31m    ........\u001b[0m\n\u001b[0m       ^\u001b[0m\n\u001b[0;31mSyntaxError\u001b[0m\u001b[0;31m:\u001b[0m invalid syntax\n"
     ]
    }
   ],
   "source": [
    "from wannierberri.calculators.static import StaticCalculator\n",
    "from wannierberri.formula.covariant import Omega\n",
    "from wannierberri import __factors as factors\n",
    "\n",
    "class ANE(StaticCalculator):\n",
    "    \n",
    "    ........\n",
    "        \n",
    "        "
   ]
  },
  {
   "cell_type": "markdown",
   "id": "5198385d",
   "metadata": {},
   "source": [
    "### Evaluate ANE  using the new calculator and plot the result\n",
    "\n"
   ]
  },
  {
   "cell_type": "code",
   "execution_count": 1,
   "id": "06b59fb5",
   "metadata": {},
   "outputs": [
    {
     "ename": "NameError",
     "evalue": "name 'np' is not defined",
     "output_type": "error",
     "traceback": [
      "\u001b[0;31m---------------------------------------------------------------------------\u001b[0m",
      "\u001b[0;31mNameError\u001b[0m                                 Traceback (most recent call last)",
      "\u001b[0;32m/tmp/ipykernel_72575/3794508531.py\u001b[0m in \u001b[0;36m<module>\u001b[0;34m\u001b[0m\n\u001b[1;32m      2\u001b[0m \u001b[0;34m\u001b[0m\u001b[0m\n\u001b[1;32m      3\u001b[0m \u001b[0mcalculators\u001b[0m \u001b[0;34m=\u001b[0m \u001b[0;34m{\u001b[0m\u001b[0;34m}\u001b[0m\u001b[0;34m\u001b[0m\u001b[0;34m\u001b[0m\u001b[0m\n\u001b[0;32m----> 4\u001b[0;31m \u001b[0mEfermi\u001b[0m \u001b[0;34m=\u001b[0m \u001b[0mnp\u001b[0m\u001b[0;34m.\u001b[0m\u001b[0mlinspace\u001b[0m\u001b[0;34m(\u001b[0m\u001b[0;36m12\u001b[0m\u001b[0;34m,\u001b[0m\u001b[0;36m13\u001b[0m\u001b[0;34m,\u001b[0m\u001b[0;36m101\u001b[0m\u001b[0;34m)\u001b[0m\u001b[0;34m\u001b[0m\u001b[0;34m\u001b[0m\u001b[0m\n\u001b[0m\u001b[1;32m      5\u001b[0m \u001b[0;31m# Set a grid\u001b[0m\u001b[0;34m\u001b[0m\u001b[0;34m\u001b[0m\u001b[0m\n\u001b[1;32m      6\u001b[0m \u001b[0mgrid\u001b[0m \u001b[0;34m=\u001b[0m \u001b[0mwberri\u001b[0m\u001b[0;34m.\u001b[0m\u001b[0mGrid\u001b[0m\u001b[0;34m(\u001b[0m\u001b[0msystem\u001b[0m\u001b[0;34m,\u001b[0m \u001b[0mlength\u001b[0m\u001b[0;34m=\u001b[0m\u001b[0;36m50\u001b[0m \u001b[0;34m)\u001b[0m   \u001b[0;31m# length [ Ang] ~= 2*pi/dk\u001b[0m\u001b[0;34m\u001b[0m\u001b[0;34m\u001b[0m\u001b[0m\n",
      "\u001b[0;31mNameError\u001b[0m: name 'np' is not defined"
     ]
    }
   ],
   "source": [
    "# insert the needed code below\n",
    "\n",
    "calculators = {}\n",
    "Efermi = np.linspace(12,13,101)\n",
    "# Set a grid \n",
    "grid = wberri.Grid(system, length=50 )   # length [ Ang] ~= 2*pi/dk\n",
    "\n",
    "calculators [\"ane\"] = ANE(Efermi=Efermi,tetra=True)\n",
    "\n",
    "result_run_ane = wberri.run(system,\n",
    "            grid=grid,\n",
    "            calculators = calculators,\n",
    "            parallel=parallel,\n",
    "            adpt_num_iter=0,\n",
    "            fout_name='Fe',\n",
    "            restart=False,\n",
    "           # file_Klist=\"Klist_ahc.pickle\"  # needed to restart a calculation in future\n",
    "            )\n",
    "\n"
   ]
  },
  {
   "cell_type": "code",
   "execution_count": 2,
   "id": "e0d7b696",
   "metadata": {},
   "outputs": [
    {
     "ename": "NameError",
     "evalue": "name 'result_run_ane' is not defined",
     "output_type": "error",
     "traceback": [
      "\u001b[0;31m---------------------------------------------------------------------------\u001b[0m",
      "\u001b[0;31mNameError\u001b[0m                                 Traceback (most recent call last)",
      "\u001b[0;32m/tmp/ipykernel_72575/1640526022.py\u001b[0m in \u001b[0;36m<module>\u001b[0;34m\u001b[0m\n\u001b[0;32m----> 1\u001b[0;31m \u001b[0mef\u001b[0m \u001b[0;34m=\u001b[0m \u001b[0mresult_run_ane\u001b[0m\u001b[0;34m.\u001b[0m\u001b[0mresults\u001b[0m\u001b[0;34m[\u001b[0m\u001b[0;34m\"ane\"\u001b[0m\u001b[0;34m]\u001b[0m\u001b[0;34m.\u001b[0m\u001b[0mEnergies\u001b[0m\u001b[0;34m[\u001b[0m\u001b[0;36m0\u001b[0m\u001b[0;34m]\u001b[0m\u001b[0;34m\u001b[0m\u001b[0;34m\u001b[0m\u001b[0m\n\u001b[0m\u001b[1;32m      2\u001b[0m \u001b[0mane_z\u001b[0m \u001b[0;34m=\u001b[0m \u001b[0mresult_run_ane\u001b[0m\u001b[0;34m.\u001b[0m\u001b[0mresults\u001b[0m\u001b[0;34m[\u001b[0m\u001b[0;34m\"ane\"\u001b[0m\u001b[0;34m]\u001b[0m\u001b[0;34m.\u001b[0m\u001b[0mdataSmooth\u001b[0m\u001b[0;34m[\u001b[0m\u001b[0;34m:\u001b[0m\u001b[0;34m,\u001b[0m\u001b[0;36m2\u001b[0m\u001b[0;34m]\u001b[0m\u001b[0;34m\u001b[0m\u001b[0;34m\u001b[0m\u001b[0m\n\u001b[1;32m      3\u001b[0m \u001b[0;34m\u001b[0m\u001b[0m\n\u001b[1;32m      4\u001b[0m \u001b[0;34m\u001b[0m\u001b[0m\n\u001b[1;32m      5\u001b[0m \u001b[0mplt\u001b[0m\u001b[0;34m.\u001b[0m\u001b[0mscatter\u001b[0m\u001b[0;34m(\u001b[0m\u001b[0mefnew\u001b[0m\u001b[0;34m,\u001b[0m\u001b[0md_ahc_z\u001b[0m\u001b[0;34m)\u001b[0m\u001b[0;34m\u001b[0m\u001b[0;34m\u001b[0m\u001b[0m\n",
      "\u001b[0;31mNameError\u001b[0m: name 'result_run_ane' is not defined"
     ]
    }
   ],
   "source": [
    "\n",
    "ef = result_run_ane.results[\"ane\"].Energies[0]\n",
    "ane_z = result_run_ane.results[\"ane\"].dataSmooth[:,2]\n",
    "\n",
    "\n",
    "plt.scatter(efnew,d_ahc_z)\n",
    "plt.plot(ef, ane_z)\n",
    "plt.show()"
   ]
  },
  {
   "cell_type": "markdown",
   "id": "e2bda9d0",
   "metadata": {},
   "source": [
    "## Questions: \n",
    "\n",
    "1. Make the k-points or Efermi denser. Will the agreement improve?\n",
    "\n",
    "2. we calculated the AHC and ANE with zero refinement iterations, and the results matched well (or at least they should). If we calculate them separately, but with some refinement iterations, will the results match?\n",
    "\n",
    "3. What if we use refinement itrations and run the two calculations together, in one `run()` call ?"
   ]
  },
  {
   "cell_type": "markdown",
   "id": "f9a73ba2",
   "metadata": {},
   "source": [
    "## FormulaProduct\n",
    "\n",
    "Look at the definition of erryDipole_FermiSurf\n",
    "\n",
    "https://wannier-berri.org/_modules/wannierberri/calculators/static.html\n",
    "\n",
    "\n",
    "It evaluates \n",
    "\n",
    "\\begin{equation}\n",
    "D_{ab} =\\sum_n \\int\\frac{d\\mathbf{k}}{(2\\pi)^3} v_a\\Omega^n_b f(\\epsilon_n)\n",
    "\\label{eq:ahc}\\tag{2}\n",
    "\\end{equation}\n",
    "\n",
    "also look at definition of the Feormula https://wannier-berri.org/docs/formula.html \n",
    "\n",
    "you can see that it is base on a FormulaProduct.  Essentially, by analogy you may define any tensor, e.g. \n",
    "\n",
    "$$\n",
    "\\sum_n \\int\\frac{d\\mathbf{k}}{(2\\pi)^3} v_a\\Omega^n_b v_c f''(\\epsilon_n)\n",
    "$$\n",
    "\n",
    "i.e. product of several quantities weighted by rge second derivative of Fermi distribution. You may write any analogous formula, if you want. Try to define corresponding FormulaProduct and StaticCalculator classes, and try to evaluate them. \n",
    "\n"
   ]
  },
  {
   "cell_type": "code",
   "execution_count": null,
   "id": "c1a83341",
   "metadata": {},
   "outputs": [],
   "source": []
  },
  {
   "cell_type": "code",
   "execution_count": null,
   "id": "93841a42",
   "metadata": {},
   "outputs": [],
   "source": []
  },
  {
   "cell_type": "markdown",
   "id": "e8fdf37c",
   "metadata": {},
   "source": [
    "## Problem :\n",
    "\n",
    "\n",
    " try to prove (analytically and numerically) that \n",
    "\n",
    "$$\n",
    "\\sum_n \\int\\frac{d\\mathbf{k}}{(2\\pi)^3} \\partial_a \\partial_b \\partial_c \\epsilon_{n\\mathbf{k}} f(\\epsilon_{n\\mathbf{k}}) \\propto \\sum_n \\int\\frac{d\\mathbf{k}}{(2\\pi)^3} \\partial_a \\epsilon_{n\\mathbf{k}}  \\partial_b \\epsilon_{n\\mathbf{k}}  \\partial_c \\epsilon_{n\\mathbf{k}} f''(\\epsilon_{n\\mathbf{k}})\n",
    "$$ \n",
    "\n",
    "and tell me what is the factor missing?\n",
    "\n",
    "\n",
    "** Have fun ! **"
   ]
  },
  {
   "cell_type": "code",
   "execution_count": null,
   "id": "b5ed3fa4",
   "metadata": {},
   "outputs": [],
   "source": []
  }
 ],
 "metadata": {
  "kernelspec": {
   "display_name": "Python 3 (ipykernel)",
   "language": "python",
   "name": "python3"
  },
  "language_info": {
   "codemirror_mode": {
    "name": "ipython",
    "version": 3
   },
   "file_extension": ".py",
   "mimetype": "text/x-python",
   "name": "python",
   "nbconvert_exporter": "python",
   "pygments_lexer": "ipython3",
   "version": "3.9.13"
  }
 },
 "nbformat": 4,
 "nbformat_minor": 5
}
